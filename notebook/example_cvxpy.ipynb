{
 "cells": [
  {
   "cell_type": "markdown",
   "metadata": {},
   "source": [
    "## Example cvxpy "
   ]
  },
  {
   "cell_type": "code",
   "execution_count": 1,
   "metadata": {},
   "outputs": [],
   "source": [
    "import numpy as np\n",
    "import pandas as pd\n",
    "import cvxpy as cp\n",
    "\n",
    "Pro= np.array([[5.33,2.28,2.7,1.64,1.79],\n",
    "           [5.15,4.19,2.3,2.61,1.72],\n",
    "           [4.79,6.6,2.42,3.39,1.74]])\n",
    "\n",
    "\n",
    "WaterUse=np.array([[2633,1380,1329.8,1329.8,1516],\n",
    "          [2633,1380,1329.8,1329.8,1516],\n",
    "          [2633,1380,1329.8,1329.8,1516]])\n",
    "\n",
    "\n",
    "MGk=np.array([[68608148450],[4371802806861],[10408138637]])\n",
    "\n",
    "\n",
    "Ai=np.array([[123393],[112966],[208454]])\n",
    "\n",
    "\t\t\t\t\t\t\n",
    "MA1=np.array([[335,351,358,323,324],\n",
    "    [335,351,358,323,324],\n",
    "    [335,351,358,323,324]])\n",
    "\n",
    "MA2=np.array([[8.7,10.4,9,10.6,9.3],\n",
    "     [8.7,10.4,9,10.6,9.3],\n",
    "     [8.7,10.4,9,10.6,9.3]])\n",
    "\n",
    "\n",
    "# MAm=np.array([[np.sum(MA1)],[np.sum(MA2)]])\n",
    "MAm=np.array([[6856401002000],[180283113900]])\n",
    "\n",
    "MI1=np.array([[6.4,4.3,1.6,6.3,6.5],\n",
    "     [6.4,4.3,1.6,6.3,6.5],\n",
    "     [6.4,4.3,1.6,6.3,6.5]])\n",
    "\n",
    "MI2= np.array([[14,22,41,99,47],\n",
    "      [14,22,41,99,47],\n",
    "      [14,22,41,99,47]])\n",
    "\n",
    "MI3= np.array([[1.7,1.64,1.87,2.07,3.62],\n",
    "      [1.7,1.64,1.87,2.07,3.62],\n",
    "      [1.7,1.64,1.87,2.07,3.62]])\n",
    "\n",
    "\n",
    "# MIk=np.array([[np.sum(MI1)],[np.sum(MI2)],[np.sum(MI3)]])\n",
    "MIk=np.array([[129872974500],[368832071000],[36462118760]])"
   ]
  },
  {
   "cell_type": "code",
   "execution_count": 9,
   "metadata": {},
   "outputs": [
    {
     "data": {
      "text/plain": [
       "5073"
      ]
     },
     "execution_count": 9,
     "metadata": {},
     "output_type": "execute_result"
    }
   ],
   "source": [
    "np.sum(MA1)"
   ]
  },
  {
   "cell_type": "code",
   "execution_count": 2,
   "metadata": {},
   "outputs": [
    {
     "data": {
      "text/plain": [
       "(3, 5)"
      ]
     },
     "execution_count": 2,
     "metadata": {},
     "output_type": "execute_result"
    }
   ],
   "source": [
    "MI1.shape"
   ]
  },
  {
   "cell_type": "code",
   "execution_count": 3,
   "metadata": {},
   "outputs": [
    {
     "data": {
      "text/plain": [
       "array([[14033.89 ,  3146.4  ,  3590.46 ,  2180.872,  2713.64 ],\n",
       "       [13559.95 ,  5782.2  ,  3058.54 ,  3470.778,  2607.52 ],\n",
       "       [12612.07 ,  9108.   ,  3218.116,  4508.022,  2637.84 ]])"
      ]
     },
     "execution_count": 3,
     "metadata": {},
     "output_type": "execute_result"
    }
   ],
   "source": [
    "Pro*WaterUse"
   ]
  },
  {
   "cell_type": "code",
   "execution_count": 10,
   "metadata": {},
   "outputs": [],
   "source": [
    "x = cp.Variable(shape=(3,5))"
   ]
  },
  {
   "cell_type": "code",
   "execution_count": 12,
   "metadata": {},
   "outputs": [],
   "source": [
    "obj=cp.Maximize(cp.sum(cp.multiply(x,Pro*WaterUse)))"
   ]
  },
  {
   "cell_type": "code",
   "execution_count": 10,
   "metadata": {},
   "outputs": [],
   "source": [
    "x = cp.Variable (1)\n",
    "y = cp.Variable (shape=(3,5))\n",
    "obj= cp.Maximize (x)\n",
    "\n",
    "con=[cp.sum(cp.multiply(y*10000,Pro*MA1))>=MAm[0],\n",
    "     cp.sum(cp.multiply(y*10000,Pro*MA2))>=MAm[1],\n",
    "     cp.sum(cp.multiply(y*10000,Pro*MI1))>=MIk[0]+ x @ MGk[0],\n",
    "     cp.sum(y,axis=1,keepdims=True)<=Ai,\n",
    "     cp.sum(cp.multiply(y,Pro*WaterUse)) <= 5185206229,\n",
    "     y>=0]"
   ]
  },
  {
   "cell_type": "markdown",
   "metadata": {},
   "source": [
    "`cp.multiply(y,Pro*WaterUse) 等价于  cp.multiply(cp.multiply(y,Pro),WaterUse)`\n",
    "$$ \\Sigma_i^I\\Sigma_j^J x_{i,j}E_{i,j}W_{i,j} \\leq {WA}\n",
    "$$"
   ]
  },
  {
   "cell_type": "markdown",
   "metadata": {},
   "source": [
    "## 基于GLPK_MI的求解结果\n",
    "使用GLPK_MI和GLPK需要安装 cvxopt。\n",
    "SCS求解该类问题结果不精确"
   ]
  },
  {
   "cell_type": "code",
   "execution_count": 11,
   "metadata": {},
   "outputs": [
    {
     "data": {
      "text/plain": [
       "0.12770773969451307"
      ]
     },
     "execution_count": 11,
     "metadata": {},
     "output_type": "execute_result"
    }
   ],
   "source": [
    "prob=cp.Problem(obj,con)\n",
    "prob.solve(\"GLPK_MI\")"
   ]
  },
  {
   "cell_type": "markdown",
   "metadata": {},
   "source": [
    "# 基于GLPK的求解结果"
   ]
  },
  {
   "cell_type": "code",
   "execution_count": 12,
   "metadata": {},
   "outputs": [
    {
     "data": {
      "text/plain": [
       "0.005036640123400307"
      ]
     },
     "execution_count": 12,
     "metadata": {},
     "output_type": "execute_result"
    }
   ],
   "source": [
    "prob.solve(\"GLPK\")"
   ]
  },
  {
   "cell_type": "markdown",
   "metadata": {},
   "source": [
    "# 基于scs的求解结果"
   ]
  },
  {
   "cell_type": "code",
   "execution_count": 13,
   "metadata": {},
   "outputs": [
    {
     "data": {
      "text/plain": [
       "-0.20143630333136087"
      ]
     },
     "execution_count": 13,
     "metadata": {},
     "output_type": "execute_result"
    }
   ],
   "source": [
    "prob.solve(\"SCS\")"
   ]
  },
  {
   "cell_type": "markdown",
   "metadata": {},
   "source": []
  }
 ],
 "metadata": {
  "interpreter": {
   "hash": "f3db8392f4396a74de57e22d9052c65f278df26c0e2b8298764efc33d808c233"
  },
  "kernelspec": {
   "display_name": "Python 3.7.9 64-bit (system)",
   "language": "python",
   "name": "python3"
  },
  "language_info": {
   "codemirror_mode": {
    "name": "ipython",
    "version": 3
   },
   "file_extension": ".py",
   "mimetype": "text/x-python",
   "name": "python",
   "nbconvert_exporter": "python",
   "pygments_lexer": "ipython3",
   "version": "3.7.9"
  },
  "orig_nbformat": 4
 },
 "nbformat": 4,
 "nbformat_minor": 2
}
